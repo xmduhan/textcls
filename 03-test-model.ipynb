{
 "cells": [
  {
   "cell_type": "code",
   "execution_count": 1,
   "metadata": {},
   "outputs": [],
   "source": [
    "from __future__ import division\n",
    "\n",
    "import config\n",
    "\n",
    "import os\n",
    "import pickle\n",
    "from datetime import datetime\n",
    "\n",
    "import numpy as np\n",
    "import pandas as pd\n",
    "\n",
    "import tensorflow as tf\n",
    "\n",
    "from helper import content_to_vector, class_to_vector, id_to_class"
   ]
  },
  {
   "cell_type": "code",
   "execution_count": 2,
   "metadata": {},
   "outputs": [],
   "source": [
    "test = pd.read_csv('data/test.csv', encoding='utf-8')\n",
    "test = test.sample(len(test)).reset_index(drop=True)"
   ]
  },
  {
   "cell_type": "code",
   "execution_count": 3,
   "metadata": {},
   "outputs": [],
   "source": [
    "sample_data = test.sample(1000)\n",
    "x_data = list(sample_data['content'].apply(content_to_vector))\n",
    "y_data = list(sample_data['class'].apply(class_to_vector))"
   ]
  },
  {
   "cell_type": "code",
   "execution_count": null,
   "metadata": {},
   "outputs": [],
   "source": []
  },
  {
   "cell_type": "code",
   "execution_count": 4,
   "metadata": {},
   "outputs": [
    {
     "name": "stdout",
     "output_type": "stream",
     "text": [
      "INFO:tensorflow:Restoring parameters from model/model\n"
     ]
    }
   ],
   "source": [
    "graph = tf.Graph()\n",
    "tfcfg = tf.ConfigProto(intra_op_parallelism_threads=config.cpu_to_use)\n",
    "session = tf.Session(graph=graph, config=tfcfg)\n",
    "with session.graph.as_default():\n",
    "    # Load model\n",
    "    saver = tf.train.import_meta_graph(config.model_filename + '.meta')\n",
    "    saver.restore(session, config.model_filename)\n",
    "    \n",
    "    # Load node information\n",
    "    nodes = pickle.load(open(config.nodes_filename, \"rU\"))\n",
    "    x = session.graph.get_tensor_by_name(nodes['x'])\n",
    "    keep_prob = session.graph.get_tensor_by_name(nodes['keep_prob'])\n",
    "    prediction = session.graph.get_tensor_by_name(nodes['prediction'])    "
   ]
  },
  {
   "cell_type": "code",
   "execution_count": null,
   "metadata": {},
   "outputs": [],
   "source": []
  },
  {
   "cell_type": "code",
   "execution_count": null,
   "metadata": {},
   "outputs": [],
   "source": []
  },
  {
   "cell_type": "code",
   "execution_count": 17,
   "metadata": {},
   "outputs": [],
   "source": []
  },
  {
   "cell_type": "code",
   "execution_count": 8,
   "metadata": {},
   "outputs": [],
   "source": [
    "sample_data['class2'] = map(lambda x: id_to_class[x], p)"
   ]
  },
  {
   "cell_type": "code",
   "execution_count": 9,
   "metadata": {},
   "outputs": [
    {
     "data": {
      "text/plain": [
       "856"
      ]
     },
     "execution_count": 9,
     "metadata": {},
     "output_type": "execute_result"
    }
   ],
   "source": [
    "(sample_data['class'] == sample_data['class2']).astype(int).sum()"
   ]
  },
  {
   "cell_type": "code",
   "execution_count": 56,
   "metadata": {},
   "outputs": [],
   "source": [
    "row = sample_data.iloc[2]"
   ]
  },
  {
   "cell_type": "code",
   "execution_count": 57,
   "metadata": {},
   "outputs": [
    {
     "name": "stdout",
     "output_type": "stream",
     "text": [
      "用户来电表示对目前停机:欠费双停(欠费双停)  (欠费-1337.03元)的费用有异议 表示到期都没有使用 要求把没有使用的费用减免后再处理 用户急  烦请协助 谢谢 固网业务\n"
     ]
    }
   ],
   "source": [
    "print row['content'], row['class']"
   ]
  },
  {
   "cell_type": "code",
   "execution_count": 83,
   "metadata": {},
   "outputs": [],
   "source": [
    "# content = u'用户的手机突然不能上网, 重启了也不行, 并没有欠费, 可以正常打电话'\n",
    "content = u'号码05925056435 不能上网, 包年套餐费用有正常缴交, 路由器一致提示781'"
   ]
  },
  {
   "cell_type": "code",
   "execution_count": 84,
   "metadata": {},
   "outputs": [
    {
     "name": "stdout",
     "output_type": "stream",
     "text": [
      "固网业务\n"
     ]
    }
   ],
   "source": [
    "print classify(content)"
   ]
  }
 ],
 "metadata": {
  "kernelspec": {
   "display_name": "Python 2",
   "language": "python",
   "name": "python2"
  },
  "language_info": {
   "codemirror_mode": {
    "name": "ipython",
    "version": 2
   },
   "file_extension": ".py",
   "mimetype": "text/x-python",
   "name": "python",
   "nbconvert_exporter": "python",
   "pygments_lexer": "ipython2",
   "version": "2.7.12"
  }
 },
 "nbformat": 4,
 "nbformat_minor": 2
}
