{
 "cells": [
  {
   "cell_type": "code",
   "execution_count": null,
   "metadata": {},
   "outputs": [],
   "source": [
    "import importlib\n",
    "import pandas as pd\n",
    "from sklearn import metrics\n",
    "\n",
    "from model.contact import cls\n",
    "\n",
    "from model.contact import helper\n",
    "\n",
    "df = pd.read_csv('data/contact/test.csv', encoding='utf-8')\n",
    "\n",
    "df['prediction'] = df['content'].apply(cls.classify)\n",
    "\n",
    "print(metrics.classification_report(df['class'], df['prediction']))\n",
    "print metrics.confusion_matrix(df['class'], df['prediction'])"
   ]
  }
 ],
 "metadata": {
  "kernelspec": {
   "display_name": "Python 2",
   "language": "python",
   "name": "python2"
  }
 },
 "nbformat": 4,
 "nbformat_minor": 2
}
