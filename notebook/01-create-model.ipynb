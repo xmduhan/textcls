{
 "cells": [
  {
   "cell_type": "code",
   "execution_count": 9,
   "metadata": {},
   "outputs": [],
   "source": [
    "from __future__ import division\n",
    "\n",
    "import warnings\n",
    "warnings.simplefilter(action='ignore', category=FutureWarning)\n",
    "\n",
    "import os\n",
    "import pickle\n",
    "\n",
    "import pandas as pd\n",
    "import tensorflow as tf\n",
    "\n",
    "from collections import Counter"
   ]
  },
  {
   "cell_type": "code",
   "execution_count": 2,
   "metadata": {},
   "outputs": [],
   "source": [
    "train = pd.read_csv('data/train.csv', encoding='utf-8')"
   ]
  },
  {
   "cell_type": "code",
   "execution_count": 3,
   "metadata": {},
   "outputs": [],
   "source": [
    "counter = Counter(''.join(list(train['content'])))\n",
    "vocabulary = pd.Series(counter).sort_values(ascending=False).reset_index()\n",
    "vocabulary.columns = ['char', 'count']\n",
    "vocabulary.to_csv('model/vocabulary.csv', encoding='utf-8')"
   ]
  },
  {
   "cell_type": "code",
   "execution_count": 4,
   "metadata": {},
   "outputs": [],
   "source": [
    "class_count = len(train['class'].drop_duplicates())\n",
    "vocabulary_size = len(vocabulary)"
   ]
  },
  {
   "cell_type": "code",
   "execution_count": 5,
   "metadata": {},
   "outputs": [],
   "source": [
    "graph = tf.Graph()\n",
    "with graph.as_default():\n",
    "    # Placenode for data feeding\n",
    "    # seq_length = 600\n",
    "    x = tf.placeholder(tf.int32, [None, 600])\n",
    "    y = tf.placeholder(tf.float32, [None, class_count])\n",
    "    keep_prob = tf.placeholder(tf.float32)\n",
    "    \n",
    "    # Embedding layer\n",
    "    # embedding_dim = 64\n",
    "    embedding = tf.get_variable('embedding', [vocabulary_size, 64])\n",
    "    embedding = tf.nn.embedding_lookup(embedding, x)\n",
    "    \n",
    "    # CNN layer\n",
    "    conv = tf.layers.conv1d(embedding, filters=256, kernel_size=5)\n",
    "    \n",
    "    # Max pooling layer  \n",
    "    max_pooling = tf.reduce_max(conv, reduction_indices=[1])\n",
    "    \n",
    "    # Fully connected layer\n",
    "    fully_connected = tf.layers.dense(max_pooling, units=128)\n",
    "    fully_connected = tf.contrib.layers.dropout(fully_connected, keep_prob)\n",
    "    fully_connected = tf.nn.relu(fully_connected)\n",
    "    \n",
    "    # Prediction function\n",
    "    logits = tf.layers.dense(fully_connected, class_count)\n",
    "    prediction = tf.argmax(tf.nn.softmax(logits), 1)  \n",
    "    \n",
    "    # Loss function                                                                                                                                                                                   \n",
    "    cross_entropy = tf.nn.softmax_cross_entropy_with_logits(logits=logits, labels=y)\n",
    "    loss = tf.reduce_mean(cross_entropy) \n",
    "    \n",
    "    # Optimizer function\n",
    "    optimizer = tf.train.AdamOptimizer(learning_rate=1e-3).minimize(loss)\n",
    "    \n",
    "    # 准确率\n",
    "    correct = tf.equal(tf.argmax(x, 1), prediction)\n",
    "    accuracy = tf.reduce_mean(tf.cast(correct, tf.float32))"
   ]
  },
  {
   "cell_type": "code",
   "execution_count": 6,
   "metadata": {},
   "outputs": [],
   "source": [
    "model_path = 'model'\n",
    "model_filename = 'model/model'\n",
    "\n",
    "with tf.Session(graph=graph) as session:\n",
    "    session.run(tf.global_variables_initializer())\n",
    "    saver = tf.train.Saver(max_to_keep=1)\n",
    "    saver.save(session, model_filename)\n",
    "\n",
    "nodes = {\n",
    "    'x': x.name,\n",
    "    'y': y.name,\n",
    "    'prediction': prediction.name,\n",
    "    'keep_prob': keep_prob.name,\n",
    "    'loss': loss.name,\n",
    "    'optimizer': optimizer.name,\n",
    "    'accuracy': accuracy.name,\n",
    "}\n",
    "nodes_file_name = os.path.join(model_path, 'nodes.pk')\n",
    "pickle.dump(nodes, open(nodes_file_name, 'wb'))"
   ]
  }
 ],
 "metadata": {
  "kernelspec": {
   "display_name": "Python 2",
   "language": "python",
   "name": "python2"
  },
  "language_info": {
   "codemirror_mode": {
    "name": "ipython",
    "version": 2
   },
   "file_extension": ".py",
   "mimetype": "text/x-python",
   "name": "python",
   "nbconvert_exporter": "python",
   "pygments_lexer": "ipython2",
   "version": "2.7.12"
  }
 },
 "nbformat": 4,
 "nbformat_minor": 2
}
