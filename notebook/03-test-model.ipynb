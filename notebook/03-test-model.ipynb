{
 "cells": [
  {
   "cell_type": "code",
   "execution_count": 1,
   "metadata": {},
   "outputs": [
    {
     "name": "stdout",
     "output_type": "stream",
     "text": [
      "INFO:tensorflow:Restoring parameters from model/model\n"
     ]
    }
   ],
   "source": [
    "from __future__ import division\n",
    "import pandas as pd\n",
    "from cls import classify"
   ]
  },
  {
   "cell_type": "code",
   "execution_count": 2,
   "metadata": {},
   "outputs": [],
   "source": [
    "df = pd.read_csv('data/test.csv', encoding='utf-8')\n",
    "test = df.sample(len(df)).reset_index(drop=True)"
   ]
  },
  {
   "cell_type": "code",
   "execution_count": 3,
   "metadata": {},
   "outputs": [
    {
     "data": {
      "text/plain": [
       "(15711, 15711)"
      ]
     },
     "execution_count": 3,
     "metadata": {},
     "output_type": "execute_result"
    }
   ],
   "source": [
    "len(test), len(df)"
   ]
  },
  {
   "cell_type": "code",
   "execution_count": 4,
   "metadata": {},
   "outputs": [
    {
     "data": {
      "text/plain": [
       "0.38928139520081473"
      ]
     },
     "execution_count": 4,
     "metadata": {},
     "output_type": "execute_result"
    }
   ],
   "source": [
    "test['class1'] = test['content'].apply(classify)\n",
    "(test['class1'] == test['class']).astype(int).sum() / len(test)"
   ]
  },
  {
   "cell_type": "code",
   "execution_count": 5,
   "metadata": {},
   "outputs": [],
   "source": [
    "test['succ'] = (test['class1'] == test['class']).astype(int)"
   ]
  },
  {
   "cell_type": "code",
   "execution_count": 6,
   "metadata": {},
   "outputs": [
    {
     "name": "stdout",
     "output_type": "stream",
     "text": [
      "运营支撑中心（集一）-XMJC\n"
     ]
    }
   ],
   "source": [
    "# content = u'用户来电表示手机不能上网，并没有欠费, 可以正常打电话请尽快帮忙处理!'\n",
    "# content = u'用户手机被欠费停机, 但是用户有按时缴交费用，要求查询结果'\n",
    "# content = u'用户来电表示宽带不能上网，并没有欠费, 请尽快帮忙处理!'\n",
    "# content = u'用户宽带没有到期，就要求取消, 但是按规定不可以，已向用户解释用户不接受'\n",
    "content=u'用户宽带不能上网, 重启多次无效, 已测试账号密码无误'\n",
    "print classify(content)"
   ]
  },
  {
   "cell_type": "code",
   "execution_count": 7,
   "metadata": {},
   "outputs": [],
   "source": [
    "# test.groupby('class').count()[['content']].sort_values('content', ascending=False)"
   ]
  },
  {
   "cell_type": "code",
   "execution_count": 8,
   "metadata": {},
   "outputs": [],
   "source": [
    "# test[test['class'] == u'规则政策类']"
   ]
  },
  {
   "cell_type": "code",
   "execution_count": 9,
   "metadata": {},
   "outputs": [],
   "source": [
    "# test[['agree_id', 'content', 'class', 'class1']].to_excel('/tmp/1.xls', index=False)"
   ]
  },
  {
   "cell_type": "code",
   "execution_count": 27,
   "metadata": {},
   "outputs": [],
   "source": [
    "g = test.groupby('class1')['succ']\n",
    "rf = pd.DataFrame({'sum': g.sum(), 'count':g.count()})\n",
    "rf = rf.reset_index()\n",
    "rf = rf[rf['class1'] != u'厦门10000号投诉处理组（集一）-XMJC']\n",
    "rf['pct'] = rf['sum'] / rf['count']\n",
    "rf = rf.sort_values('count', ascending=False)\n",
    "rf = rf.sort_values('pct', ascending=False)"
   ]
  },
  {
   "cell_type": "code",
   "execution_count": null,
   "metadata": {},
   "outputs": [],
   "source": []
  }
 ],
 "metadata": {
  "kernelspec": {
   "display_name": "Python 2",
   "language": "python",
   "name": "python2"
  },
  "language_info": {
   "codemirror_mode": {
    "name": "ipython",
    "version": 2
   },
   "file_extension": ".py",
   "mimetype": "text/x-python",
   "name": "python",
   "nbconvert_exporter": "python",
   "pygments_lexer": "ipython2",
   "version": "2.7.12"
  }
 },
 "nbformat": 4,
 "nbformat_minor": 2
}
